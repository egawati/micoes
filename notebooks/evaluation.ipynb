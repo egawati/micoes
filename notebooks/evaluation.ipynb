{
 "cells": [
  {
   "cell_type": "code",
   "execution_count": 1,
   "metadata": {},
   "outputs": [],
   "source": [
    "import warnings\n",
    "warnings.filterwarnings('ignore')\n",
    "\n",
    "import time\n",
    "import math\n",
    "import sys\n",
    "import numpy as np\n",
    "import pandas as pd\n",
    "import matplotlib.pyplot as plt\n",
    "\n",
    "\n",
    "from micoes.experiment.run_evaluation import FeatureScoresEvaluation\n",
    "from micoes.experiment.run_evaluation import run_evaluation_on_count_based_window\n",
    "\n",
    "import logging\n",
    "logging.basicConfig(format='%(message)s', level=logging.INFO)\n",
    "\n",
    "\n",
    "%matplotlib notebook\n",
    "%matplotlib inline\n"
   ]
  },
  {
   "cell_type": "code",
   "execution_count": 2,
   "metadata": {},
   "outputs": [
    {
     "name": "stderr",
     "output_type": "stream",
     "text": [
      "Running stream...\n",
      "NumExpr defaulting to 8 threads.\n"
     ]
    },
    {
     "data": {
      "text/plain": [
       "{'den_matched_percentage': 0.125,\n",
       " 'clu_matched_percentage': 0.0,\n",
       " 'coin_matched_percentage': 0.125}"
      ]
     },
     "execution_count": 2,
     "metadata": {},
     "output_type": "execute_result"
    }
   ],
   "source": [
    "def run_wine_evaluation_on_count_based_window():\n",
    "    filepath = '../data/odds/wine.csv' \n",
    "    groundtruth_path = '../groundtruth/pickles/wine_60.pickle'\n",
    "    detection_results, cluexplainer_results, denexplainer_results, matched_result = run_evaluation_on_count_based_window(filepath, groundtruth_path, \n",
    "                                                  window_size=60, init_percentage=10, \n",
    "                                                  detector_type='lof', alpha=3, precise=0.01, lamda=1)\n",
    "    return matched_result\n",
    "result = run_wine_evaluation_on_count_based_window()\n",
    "result"
   ]
  },
  {
   "cell_type": "code",
   "execution_count": 3,
   "metadata": {},
   "outputs": [],
   "source": [
    "def run_mammography_evaluation_on_count_based_window():\n",
    "    filepath = '../data/odds/mammography.csv' \n",
    "    groundtruth_path = '../groundtruth/pickles/mammography_60.pickle'\n",
    "    detection_results, cluexplainer_results, denexplainer_results, matched_result = run_evaluation_on_count_based_window(filepath, groundtruth_path, \n",
    "                                                  window_size=60, init_percentage=10, \n",
    "                                                  detector_type='lof', alpha=3, precise=0.01, lamda=1)\n",
    "    return matched_result\n",
    "# result = run_mammography_evaluation_on_count_based_window()\n",
    "# result"
   ]
  },
  {
   "cell_type": "code",
   "execution_count": 4,
   "metadata": {},
   "outputs": [],
   "source": [
    "def run_shuttle_evaluation_on_count_based_window():\n",
    "    filepath = '../data/odds/shuttle.csv' \n",
    "    groundtruth_path = '../groundtruth/pickles/shuttle_60.pickle'\n",
    "    detection_results, cluexplainer_results, denexplainer_results, matched_result = run_evaluation_on_count_based_window(filepath, groundtruth_path, \n",
    "                                                  window_size=60, init_percentage=10, \n",
    "                                                  detector_type='lof', alpha=3, precise=0.01, lamda=1)\n",
    "    return matched_result\n",
    "# result = run_shuttle_evaluation_on_count_based_window()\n",
    "# result"
   ]
  },
  {
   "cell_type": "code",
   "execution_count": 5,
   "metadata": {},
   "outputs": [],
   "source": [
    "def run_smtp_evaluation_on_count_based_window():\n",
    "    filepath = '../data/odds/smtp.csv' \n",
    "    groundtruth_path = '../groundtruth/pickles/smtp_60.pickle'\n",
    "    detection_results, cluexplainer_results, denexplainer_results, matched_result = run_evaluation_on_count_based_window(filepath, groundtruth_path, \n",
    "                                                  window_size=60, init_percentage=10, \n",
    "                                                  detector_type='lof', alpha=3, precise=0.01, lamda=1)\n",
    "    return matched_result\n",
    "# result = run_smtp_evaluation_on_count_based_window()\n",
    "# result"
   ]
  }
 ],
 "metadata": {
  "kernelspec": {
   "display_name": "Python 3",
   "language": "python",
   "name": "python3"
  },
  "language_info": {
   "codemirror_mode": {
    "name": "ipython",
    "version": 3
   },
   "file_extension": ".py",
   "mimetype": "text/x-python",
   "name": "python",
   "nbconvert_exporter": "python",
   "pygments_lexer": "ipython3",
   "version": "3.8.5"
  }
 },
 "nbformat": 4,
 "nbformat_minor": 4
}
