{
 "cells": [
  {
   "cell_type": "code",
   "execution_count": 1,
   "metadata": {},
   "outputs": [],
   "source": [
    "import warnings\n",
    "warnings.filterwarnings('ignore')\n",
    "\n",
    "import time\n",
    "import math\n",
    "import sys\n",
    "import numpy as np\n",
    "import pandas as pd\n",
    "import matplotlib.pyplot as plt\n",
    "\n",
    "from sklearn import datasets\n",
    "\n",
    "from micoes.microclusters.clustream import CluStream\n",
    "from micoes.microclusters.denstream import DenStream\n",
    "\n",
    "import logging\n",
    "logging.basicConfig(format='%(message)s', level=logging.INFO)\n",
    "\n",
    "\n",
    "%matplotlib notebook\n",
    "%matplotlib inline"
   ]
  },
  {
   "cell_type": "code",
   "execution_count": 2,
   "metadata": {},
   "outputs": [],
   "source": [
    "def gen_blob_dataset():\n",
    "    np.random.seed(0)\n",
    "    n_samples = 1500\n",
    "    data, labels = datasets.make_blobs(n_samples=n_samples, random_state=8)\n",
    "    return data, labels"
   ]
  },
  {
   "cell_type": "code",
   "execution_count": 3,
   "metadata": {},
   "outputs": [
    {
     "name": "stderr",
     "output_type": "stream",
     "text": [
      "1500\n"
     ]
    }
   ],
   "source": [
    "def test_clustream_microcluster():\n",
    "    data, labels = gen_blob_dataset()\n",
    "    alpha = 3\n",
    "    n_attributes = data.shape[1]\n",
    "    n_microclusters = 12\n",
    "    tau = 60 * 0.01\n",
    "    initial = math.floor(0.1 * data.shape[0])\n",
    "    initial_points = data[:initial+1]\n",
    "    clu = CluStream(n_microclusters, n_attributes, alpha, tau)\n",
    "    clu.initialize(initial_points)\n",
    "    for point in data[initial+1:]:\n",
    "        clu.online_update_microcluster(point, time.time())\n",
    "    total_points = np.sum(np.array([mc.n_points for mc in clu.microclusters]))\n",
    "    logging.info(total_points)\n",
    "test_clustream_microcluster()"
   ]
  },
  {
   "cell_type": "code",
   "execution_count": 4,
   "metadata": {},
   "outputs": [
    {
     "name": "stderr",
     "output_type": "stream",
     "text": [
      "mu is 250.0\n",
      "Initialization:\n",
      " OMC is 2\n",
      " PMC is 0\n",
      " CMC is 0\n",
      "Online update\n",
      "After online update:\n",
      " OMC is 2\n",
      " PMC is 3\n",
      " CMC is 3\n",
      "250.99470339256462\n",
      "250.9949581699757\n",
      "250.99509615743736\n",
      "After some period of time:\n",
      " OMC is 0\n",
      " PMC is 3\n",
      " CMC is 3\n"
     ]
    }
   ],
   "source": [
    "def test_denstream_microcluster():\n",
    "    data, labels = gen_blob_dataset()\n",
    "    mu=data.shape[0]/(len(np.unique(labels))*data.shape[1])\n",
    "    logging.info(f'mu is {mu}')\n",
    "    den = DenStream(lamda=1, mu=mu, beta=0.01, eta=np.std(data), n_attributes=data.shape[1])\n",
    "    initial = math.floor(0.1 * data.shape[0])\n",
    "    initial_points = data[:initial+1]\n",
    "    den.initialize(initial_points)\n",
    "    logging.info(f'Initialization:\\n OMC is {len(den.o_microclusters)}\\n PMC is {len(den.p_microclusters)}\\n CMC is {len(den.c_microclusters)}')\n",
    "    logging.info(f'Online update')\n",
    "    for point in data[initial+1:]:\n",
    "        den.online_update_microcluster(point, time.time())\n",
    "    logging.info(f'After online update:\\n OMC is {len(den.o_microclusters)}\\n PMC is {len(den.p_microclusters)}\\n CMC is {len(den.c_microclusters)}')\n",
    "    for mc in den.c_microclusters:\n",
    "        logging.info(f'{mc.n_tpoints}')\n",
    "    den.check_microclusters_status(0.001)\n",
    "    logging.info(f'After some period of time:\\n OMC is {len(den.o_microclusters)}\\n PMC is {len(den.p_microclusters)}\\n CMC is {len(den.c_microclusters)}')\n",
    "test_denstream_microcluster()"
   ]
  },
  {
   "cell_type": "code",
   "execution_count": null,
   "metadata": {},
   "outputs": [],
   "source": []
  }
 ],
 "metadata": {
  "kernelspec": {
   "display_name": "Python 3",
   "language": "python",
   "name": "python3"
  },
  "language_info": {
   "codemirror_mode": {
    "name": "ipython",
    "version": 3
   },
   "file_extension": ".py",
   "mimetype": "text/x-python",
   "name": "python",
   "nbconvert_exporter": "python",
   "pygments_lexer": "ipython3",
   "version": "3.8.5"
  }
 },
 "nbformat": 4,
 "nbformat_minor": 4
}
